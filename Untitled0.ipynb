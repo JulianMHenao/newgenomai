{
  "nbformat": 4,
  "nbformat_minor": 0,
  "metadata": {
    "colab": {
      "name": "Untitled0.ipynb",
      "provenance": [],
      "authorship_tag": "ABX9TyMfpwz6tO6AtZQuUl5wC1ks",
      "include_colab_link": true
    },
    "kernelspec": {
      "name": "python3",
      "display_name": "Python 3"
    }
  },
  "cells": [
    {
      "cell_type": "markdown",
      "metadata": {
        "id": "view-in-github",
        "colab_type": "text"
      },
      "source": [
        "<a href=\"https://colab.research.google.com/github/JulianMHenao/newgenomai/blob/main/Untitled0.ipynb\" target=\"_parent\"><img src=\"https://colab.research.google.com/assets/colab-badge.svg\" alt=\"Open In Colab\"/></a>"
      ]
    },
    {
      "cell_type": "code",
      "metadata": {
        "colab": {
          "base_uri": "https://localhost:8080/"
        },
        "id": "oNnmuS_UsfUl",
        "outputId": "5e149a2d-a51a-4512-817f-85622bdb5eda"
      },
      "source": [
        "!pip install cmapPy"
      ],
      "execution_count": null,
      "outputs": [
        {
          "output_type": "stream",
          "text": [
            "Collecting cmapPy\n",
            "\u001b[?25l  Downloading https://files.pythonhosted.org/packages/e8/e1/9e90b0dc2051f4a3a2b9553b254889e93a2a3c7a3b925433c6298d99d596/cmapPy-4.0.1-py2.py3-none-any.whl (150kB)\n",
            "\r\u001b[K     |██▏                             | 10kB 16.2MB/s eta 0:00:01\r\u001b[K     |████▍                           | 20kB 15.7MB/s eta 0:00:01\r\u001b[K     |██████▌                         | 30kB 19.9MB/s eta 0:00:01\r\u001b[K     |████████▊                       | 40kB 18.6MB/s eta 0:00:01\r\u001b[K     |███████████                     | 51kB 12.1MB/s eta 0:00:01\r\u001b[K     |█████████████                   | 61kB 13.6MB/s eta 0:00:01\r\u001b[K     |███████████████▎                | 71kB 13.8MB/s eta 0:00:01\r\u001b[K     |█████████████████▌              | 81kB 10.6MB/s eta 0:00:01\r\u001b[K     |███████████████████▋            | 92kB 11.6MB/s eta 0:00:01\r\u001b[K     |█████████████████████▉          | 102kB 11.5MB/s eta 0:00:01\r\u001b[K     |████████████████████████        | 112kB 11.5MB/s eta 0:00:01\r\u001b[K     |██████████████████████████▏     | 122kB 11.5MB/s eta 0:00:01\r\u001b[K     |████████████████████████████▍   | 133kB 11.5MB/s eta 0:00:01\r\u001b[K     |██████████████████████████████▌ | 143kB 11.5MB/s eta 0:00:01\r\u001b[K     |████████████████████████████████| 153kB 11.5MB/s \n",
            "\u001b[?25hRequirement already satisfied: requests>=2.13.0 in /usr/local/lib/python3.7/dist-packages (from cmapPy) (2.23.0)\n",
            "Requirement already satisfied: pandas>=0.18 in /usr/local/lib/python3.7/dist-packages (from cmapPy) (1.1.5)\n",
            "Requirement already satisfied: six in /usr/local/lib/python3.7/dist-packages (from cmapPy) (1.15.0)\n",
            "Requirement already satisfied: h5py>=2.6.0 in /usr/local/lib/python3.7/dist-packages (from cmapPy) (2.10.0)\n",
            "Requirement already satisfied: numpy>=1.11.2 in /usr/local/lib/python3.7/dist-packages (from cmapPy) (1.19.5)\n",
            "Requirement already satisfied: certifi>=2017.4.17 in /usr/local/lib/python3.7/dist-packages (from requests>=2.13.0->cmapPy) (2020.12.5)\n",
            "Requirement already satisfied: idna<3,>=2.5 in /usr/local/lib/python3.7/dist-packages (from requests>=2.13.0->cmapPy) (2.10)\n",
            "Requirement already satisfied: chardet<4,>=3.0.2 in /usr/local/lib/python3.7/dist-packages (from requests>=2.13.0->cmapPy) (3.0.4)\n",
            "Requirement already satisfied: urllib3!=1.25.0,!=1.25.1,<1.26,>=1.21.1 in /usr/local/lib/python3.7/dist-packages (from requests>=2.13.0->cmapPy) (1.24.3)\n",
            "Requirement already satisfied: pytz>=2017.2 in /usr/local/lib/python3.7/dist-packages (from pandas>=0.18->cmapPy) (2018.9)\n",
            "Requirement already satisfied: python-dateutil>=2.7.3 in /usr/local/lib/python3.7/dist-packages (from pandas>=0.18->cmapPy) (2.8.1)\n",
            "Installing collected packages: cmapPy\n",
            "Successfully installed cmapPy-4.0.1\n"
          ],
          "name": "stdout"
        }
      ]
    },
    {
      "cell_type": "code",
      "metadata": {
        "colab": {
          "base_uri": "https://localhost:8080/"
        },
        "id": "P-IRC7SKs7qZ",
        "outputId": "fce2a1d6-654d-4460-90e3-f00f53cd1ddb"
      },
      "source": [
        "colab = True\r\n",
        "# In case in Colab activate this cell by passing the corect path to the images\r\n",
        "if colab==True: \r\n",
        "    from google.colab import drive\r\n",
        "    drive.mount('/content/drive')"
      ],
      "execution_count": null,
      "outputs": [
        {
          "output_type": "stream",
          "text": [
            "Mounted at /content/drive\n"
          ],
          "name": "stdout"
        }
      ]
    },
    {
      "cell_type": "code",
      "metadata": {
        "id": "IjTA_GZ-skl2"
      },
      "source": [
        "from __future__ import division\r\n",
        "import sys\r\n",
        "import math\r\n",
        "import time\r\n",
        "import operator\r\n",
        "import numpy as np\r\n",
        "import matplotlib.pyplot as plt\r\n",
        "import pandas as pd\r\n",
        "import cmapPy as cp\r\n",
        "from cmapPy.pandasGEXpress.parse import parse\r\n",
        "import torch\r\n",
        "from torch import nn\r\n",
        "import torch.nn.functional as F\r\n",
        "from torch.autograd import Variable\r\n",
        "from torch.utils import data as Tdata\r\n",
        "from sklearn.preprocessing import StandardScaler\r\n",
        "from sklearn.decomposition import PCA\r\n",
        "from sklearn.neighbors import NearestNeighbors\r\n",
        "from scipy.stats import gaussian_kde\r\n",
        "import seaborn as sns\r\n",
        "from sklearn.linear_model import LogisticRegression\r\n",
        "from sklearn.naive_bayes import BernoulliNB\r\n",
        "from sklearn.naive_bayes import GaussianNB\r\n",
        "from sklearn.svm import LinearSVC\r\n",
        "from sklearn.ensemble import RandomForestClassifier"
      ],
      "execution_count": null,
      "outputs": []
    },
    {
      "cell_type": "code",
      "metadata": {
        "id": "ZmENNRfytRns"
      },
      "source": [
        "cellLineNameSM = set([\"A375\", \"HA1E\", \"HELA\", \"HT29\", \"MCF7\", \"PC3\", \"YAPC\"])\r\n",
        "cellLineNameGP = set([\"A375\", \"A549\", \"HA1E\", \"HCC515\", \"HEPG2\", \"HT29\", \"MCF7\", \"PC3\", \"VCAP\"])"
      ],
      "execution_count": null,
      "outputs": []
    },
    {
      "cell_type": "code",
      "metadata": {
        "colab": {
          "base_uri": "https://localhost:8080/"
        },
        "id": "NyT_9XUotstd",
        "outputId": "9fd55b71-1ece-42a4-ac28-ef05c9e86a8f"
      },
      "source": [
        "\r\n",
        "sigFileNameSM = \"/content/drive/MyDrive/GSE70138_Broad_LINCS_sig_info_2017-03-06.txt.gz\" ## /content/drive/MyDrive/GSE70138_Broad_LINCS_sig_info_2017-03-06.txt.gz\r\n",
        "sigInfoSM = pd.read_csv(sigFileNameSM, sep = \"\\t\")\r\n",
        "cellLineInfoSM = sigInfoSM[sigInfoSM[\"cell_id\"].isin(cellLineNameSM)]\r\n",
        "cellLineSigSM = cellLineInfoSM[\"sig_id\"]\r\n",
        "cellLinePertSM = cellLineInfoSM[\"pert_id\"]\r\n",
        "cellLinePertTypeSM = cellLineInfoSM[\"pert_type\"]\r\n",
        "print(sigInfoSM.shape)\r\n",
        "print(cellLineInfoSM.shape)"
      ],
      "execution_count": null,
      "outputs": [
        {
          "output_type": "stream",
          "text": [
            "(118050, 8)\n",
            "(85183, 8)\n"
          ],
          "name": "stdout"
        }
      ]
    },
    {
      "cell_type": "code",
      "metadata": {
        "colab": {
          "base_uri": "https://localhost:8080/"
        },
        "id": "6Eg0_CX221XF",
        "outputId": "0befd289-2103-461b-f62c-4e5ec4a1c63d"
      },
      "source": [
        "pertDicSM = {}\r\n",
        "pertArraySM = cellLinePertSM.values\r\n",
        "for i in range(len(pertArraySM)):\r\n",
        "    pertSM = pertArraySM[i]\r\n",
        "    c = pertDicSM.setdefault(pertSM, 0)\r\n",
        "    pertDicSM[pertSM] = c + 1\r\n",
        "print(\"The number of perturbagens: \" + str(len(pertDicSM)))"
      ],
      "execution_count": null,
      "outputs": [
        {
          "output_type": "stream",
          "text": [
            "The number of perturbagens: 1797\n"
          ],
          "name": "stdout"
        }
      ]
    },
    {
      "cell_type": "code",
      "metadata": {
        "colab": {
          "base_uri": "https://localhost:8080/"
        },
        "id": "9Y2OcUdvueib",
        "outputId": "3ba5f52b-513c-453d-af71-6a70de316428"
      },
      "source": [
        "geneFileNameSM = \"/content/drive/MyDrive/GSE70138_Broad_LINCS_gene_info_2017-03-06.txt.gz\" ### /content/drive/MyDrive/GSE70138_Broad_LINCS_gene_info_2017-03-06.txt.gz\r\n",
        "geneInfoSM = pd.read_csv(geneFileNameSM, sep = \"\\t\")\r\n",
        "lmInfoSM = geneInfoSM[\"pr_gene_id\"][geneInfoSM[\"pr_is_lm\"] == 1].astype(str) # landmark genes only\r\n",
        "print(geneInfoSM.shape)\r\n",
        "print(lmInfoSM.shape)"
      ],
      "execution_count": null,
      "outputs": [
        {
          "output_type": "stream",
          "text": [
            "(12328, 5)\n",
            "(978,)\n"
          ],
          "name": "stdout"
        }
      ]
    },
    {
      "cell_type": "code",
      "metadata": {
        "id": "TognsYif2gvY"
      },
      "source": [
        "\r\n",
        "pclFileNameSM = \"../Data/YX_Data/pcl_information.csv\"\r\n",
        "pertClassDicSM = {}\r\n",
        "classDicSM = {}\r\n",
        "pertCountSM = 0\r\n",
        "with open(pclFileNameSM, \"r\") as myfile:\r\n",
        "    for line in myfile.readlines():\r\n",
        "        if not len(line):\r\n",
        "            continue\r\n",
        "        pertCountSM += 1\r\n",
        "        line = line.strip()\r\n",
        "        spline = line.split(',')\r\n",
        "        pertClassDicSM[spline[0]] = spline[1]\r\n",
        "        c = classDicSM.setdefault(spline[1], 0)\r\n",
        "        classDicSM[spline[1]] = c + 1\r\n",
        "print(\"The number of perturbagens with class information: \" + str(pertCountSM))\r\n",
        "print(\"The number of PCL: \" + str(len(classDicSM)))\r\n",
        "print(sorted(classDicSM.items(), key = operator.itemgetter(1), reverse = True)[0])"
      ],
      "execution_count": null,
      "outputs": []
    },
    {
      "cell_type": "code",
      "metadata": {
        "colab": {
          "base_uri": "https://localhost:8080/"
        },
        "id": "Y2AIlOBbswsa",
        "outputId": "8a4a1649-1850-4c08-cd27-29751c6f8e28"
      },
      "source": [
        "#!tar xvzf  '/content/drive/MyDrive/GSE70138_Broad_LINCS_Level5_COMPZ_n118050x12328_2017-03-06.gctx.gz'\r\n",
        "L1000FileNameSM = \"/content/drive/MyDrive/GSE70138_Broad_LINCS_Level5_COMPZ_n118050x12328.gctx\" ##/content/drive/MyDrive/GSE70138_Broad_LINCS_Level5_COMPZ_n118050x12328_2017-03-06.gctx.gz\r\n",
        "gctoo_cellLineSM = parse(L1000FileNameSM, cid = cellLineSigSM, rid = lmInfoSM) ## \r\n",
        "print(gctoo_cellLineSM.data_df.shape)\r\n",
        "print(max(gctoo_cellLineSM.data_df.max()))\r\n",
        "print(min(gctoo_cellLineSM.data_df.min()))"
      ],
      "execution_count": null,
      "outputs": [
        {
          "output_type": "stream",
          "text": [
            "(978, 85183)\n",
            "10.000001907348633\n",
            "-10.000001907348633\n"
          ],
          "name": "stdout"
        }
      ]
    },
    {
      "cell_type": "code",
      "metadata": {
        "id": "mHOz_qKOuduk"
      },
      "source": [
        "expDataSM = torch.Tensor(gctoo_cellLineSM.data_df.transpose().values.astype(np.float32))\r\n",
        "expDatasetSM = Tdata.TensorDataset(expDataSM)"
      ],
      "execution_count": null,
      "outputs": []
    },
    {
      "cell_type": "code",
      "metadata": {
        "colab": {
          "base_uri": "https://localhost:8080/",
          "height": 374
        },
        "id": "EFPuF96L35lz",
        "outputId": "b75620b2-ccd8-40f0-ceac-c33547c8bcc5"
      },
      "source": [
        "pclFileNameSM = \"/content/drive/MyDrive/NIHMS917441-supplement-7.xlsx\"\r\n",
        "pertClassDicSM = {}\r\n",
        "classDicSM = {}\r\n",
        "pertCountSM = 0\r\n",
        "with open(pclFileNameSM, \"r\") as myfile:\r\n",
        "    for line in myfile.readlines():\r\n",
        "        if not len(line):\r\n",
        "            continue\r\n",
        "        pertCountSM += 1\r\n",
        "        line = line.strip()\r\n",
        "        spline = line.split(',')\r\n",
        "        pertClassDicSM[spline[0]] = spline[1]\r\n",
        "        c = classDicSM.setdefault(spline[1], 0)\r\n",
        "        classDicSM[spline[1]] = c + 1\r\n",
        "print(\"The number of perturbagens with class information: \" + str(pertCountSM))\r\n",
        "print(\"The number of PCL: \" + str(len(classDicSM)))\r\n",
        "print(sorted(classDicSM.items(), key = operator.itemgetter(1), reverse = True)[0])"
      ],
      "execution_count": null,
      "outputs": [
        {
          "output_type": "error",
          "ename": "UnicodeDecodeError",
          "evalue": "ignored",
          "traceback": [
            "\u001b[0;31m---------------------------------------------------------------------------\u001b[0m",
            "\u001b[0;31mUnicodeDecodeError\u001b[0m                        Traceback (most recent call last)",
            "\u001b[0;32m<ipython-input-31-2246e345943b>\u001b[0m in \u001b[0;36m<module>\u001b[0;34m()\u001b[0m\n\u001b[1;32m      4\u001b[0m \u001b[0mpertCountSM\u001b[0m \u001b[0;34m=\u001b[0m \u001b[0;36m0\u001b[0m\u001b[0;34m\u001b[0m\u001b[0;34m\u001b[0m\u001b[0m\n\u001b[1;32m      5\u001b[0m \u001b[0;32mwith\u001b[0m \u001b[0mopen\u001b[0m\u001b[0;34m(\u001b[0m\u001b[0mpclFileNameSM\u001b[0m\u001b[0;34m,\u001b[0m \u001b[0;34m\"r\"\u001b[0m\u001b[0;34m)\u001b[0m \u001b[0;32mas\u001b[0m \u001b[0mmyfile\u001b[0m\u001b[0;34m:\u001b[0m\u001b[0;34m\u001b[0m\u001b[0;34m\u001b[0m\u001b[0m\n\u001b[0;32m----> 6\u001b[0;31m     \u001b[0;32mfor\u001b[0m \u001b[0mline\u001b[0m \u001b[0;32min\u001b[0m \u001b[0mmyfile\u001b[0m\u001b[0;34m.\u001b[0m\u001b[0mreadlines\u001b[0m\u001b[0;34m(\u001b[0m\u001b[0;34m)\u001b[0m\u001b[0;34m:\u001b[0m\u001b[0;34m\u001b[0m\u001b[0;34m\u001b[0m\u001b[0m\n\u001b[0m\u001b[1;32m      7\u001b[0m         \u001b[0;32mif\u001b[0m \u001b[0;32mnot\u001b[0m \u001b[0mlen\u001b[0m\u001b[0;34m(\u001b[0m\u001b[0mline\u001b[0m\u001b[0;34m)\u001b[0m\u001b[0;34m:\u001b[0m\u001b[0;34m\u001b[0m\u001b[0;34m\u001b[0m\u001b[0m\n\u001b[1;32m      8\u001b[0m             \u001b[0;32mcontinue\u001b[0m\u001b[0;34m\u001b[0m\u001b[0;34m\u001b[0m\u001b[0m\n",
            "\u001b[0;32m/usr/lib/python3.7/codecs.py\u001b[0m in \u001b[0;36mdecode\u001b[0;34m(self, input, final)\u001b[0m\n\u001b[1;32m    320\u001b[0m         \u001b[0;31m# decode input (taking the buffer into account)\u001b[0m\u001b[0;34m\u001b[0m\u001b[0;34m\u001b[0m\u001b[0;34m\u001b[0m\u001b[0m\n\u001b[1;32m    321\u001b[0m         \u001b[0mdata\u001b[0m \u001b[0;34m=\u001b[0m \u001b[0mself\u001b[0m\u001b[0;34m.\u001b[0m\u001b[0mbuffer\u001b[0m \u001b[0;34m+\u001b[0m \u001b[0minput\u001b[0m\u001b[0;34m\u001b[0m\u001b[0;34m\u001b[0m\u001b[0m\n\u001b[0;32m--> 322\u001b[0;31m         \u001b[0;34m(\u001b[0m\u001b[0mresult\u001b[0m\u001b[0;34m,\u001b[0m \u001b[0mconsumed\u001b[0m\u001b[0;34m)\u001b[0m \u001b[0;34m=\u001b[0m \u001b[0mself\u001b[0m\u001b[0;34m.\u001b[0m\u001b[0m_buffer_decode\u001b[0m\u001b[0;34m(\u001b[0m\u001b[0mdata\u001b[0m\u001b[0;34m,\u001b[0m \u001b[0mself\u001b[0m\u001b[0;34m.\u001b[0m\u001b[0merrors\u001b[0m\u001b[0;34m,\u001b[0m \u001b[0mfinal\u001b[0m\u001b[0;34m)\u001b[0m\u001b[0;34m\u001b[0m\u001b[0;34m\u001b[0m\u001b[0m\n\u001b[0m\u001b[1;32m    323\u001b[0m         \u001b[0;31m# keep undecoded input until the next call\u001b[0m\u001b[0;34m\u001b[0m\u001b[0;34m\u001b[0m\u001b[0;34m\u001b[0m\u001b[0m\n\u001b[1;32m    324\u001b[0m         \u001b[0mself\u001b[0m\u001b[0;34m.\u001b[0m\u001b[0mbuffer\u001b[0m \u001b[0;34m=\u001b[0m \u001b[0mdata\u001b[0m\u001b[0;34m[\u001b[0m\u001b[0mconsumed\u001b[0m\u001b[0;34m:\u001b[0m\u001b[0;34m]\u001b[0m\u001b[0;34m\u001b[0m\u001b[0;34m\u001b[0m\u001b[0m\n",
            "\u001b[0;31mUnicodeDecodeError\u001b[0m: 'utf-8' codec can't decode byte 0x8e in position 16: invalid start byte"
          ]
        }
      ]
    },
    {
      "cell_type": "code",
      "metadata": {
        "colab": {
          "base_uri": "https://localhost:8080/",
          "height": 246
        },
        "id": "6WYIjBS22Me6",
        "outputId": "359851e9-1efb-457b-994d-a753c73512e3"
      },
      "source": [
        "cellLineInfoSMC = cellLineInfoSM[cellLineInfoSM[\"pert_id\"].isin(pertClassDicSM)]\r\n",
        "cellLineSigSMC = cellLineInfoSMC[\"sig_id\"]\r\n",
        "gctoo_cellLineSMC = parse(L1000FileNameSM, cid = cellLineSigSMC, rid = lmInfoSM)\r\n",
        "print(cellLineInfoSMC.shape)\r\n",
        "print(gctoo_cellLineSMC.data_df.shape)"
      ],
      "execution_count": null,
      "outputs": [
        {
          "output_type": "error",
          "ename": "NameError",
          "evalue": "ignored",
          "traceback": [
            "\u001b[0;31m---------------------------------------------------------------------------\u001b[0m",
            "\u001b[0;31mNameError\u001b[0m                                 Traceback (most recent call last)",
            "\u001b[0;32m<ipython-input-28-53d5463d85ee>\u001b[0m in \u001b[0;36m<module>\u001b[0;34m()\u001b[0m\n\u001b[0;32m----> 1\u001b[0;31m \u001b[0mcellLineInfoSMC\u001b[0m \u001b[0;34m=\u001b[0m \u001b[0mcellLineInfoSM\u001b[0m\u001b[0;34m[\u001b[0m\u001b[0mcellLineInfoSM\u001b[0m\u001b[0;34m[\u001b[0m\u001b[0;34m\"pert_id\"\u001b[0m\u001b[0;34m]\u001b[0m\u001b[0;34m.\u001b[0m\u001b[0misin\u001b[0m\u001b[0;34m(\u001b[0m\u001b[0mpertClassDicSM\u001b[0m\u001b[0;34m)\u001b[0m\u001b[0;34m]\u001b[0m\u001b[0;34m\u001b[0m\u001b[0;34m\u001b[0m\u001b[0m\n\u001b[0m\u001b[1;32m      2\u001b[0m \u001b[0mcellLineSigSMC\u001b[0m \u001b[0;34m=\u001b[0m \u001b[0mcellLineInfoSMC\u001b[0m\u001b[0;34m[\u001b[0m\u001b[0;34m\"sig_id\"\u001b[0m\u001b[0;34m]\u001b[0m\u001b[0;34m\u001b[0m\u001b[0;34m\u001b[0m\u001b[0m\n\u001b[1;32m      3\u001b[0m \u001b[0mgctoo_cellLineSMC\u001b[0m \u001b[0;34m=\u001b[0m \u001b[0mparse\u001b[0m\u001b[0;34m(\u001b[0m\u001b[0mL1000FileNameSM\u001b[0m\u001b[0;34m,\u001b[0m \u001b[0mcid\u001b[0m \u001b[0;34m=\u001b[0m \u001b[0mcellLineSigSMC\u001b[0m\u001b[0;34m,\u001b[0m \u001b[0mrid\u001b[0m \u001b[0;34m=\u001b[0m \u001b[0mlmInfoSM\u001b[0m\u001b[0;34m)\u001b[0m\u001b[0;34m\u001b[0m\u001b[0;34m\u001b[0m\u001b[0m\n\u001b[1;32m      4\u001b[0m \u001b[0mprint\u001b[0m\u001b[0;34m(\u001b[0m\u001b[0mcellLineInfoSMC\u001b[0m\u001b[0;34m.\u001b[0m\u001b[0mshape\u001b[0m\u001b[0;34m)\u001b[0m\u001b[0;34m\u001b[0m\u001b[0;34m\u001b[0m\u001b[0m\n\u001b[1;32m      5\u001b[0m \u001b[0mprint\u001b[0m\u001b[0;34m(\u001b[0m\u001b[0mgctoo_cellLineSMC\u001b[0m\u001b[0;34m.\u001b[0m\u001b[0mdata_df\u001b[0m\u001b[0;34m.\u001b[0m\u001b[0mshape\u001b[0m\u001b[0;34m)\u001b[0m\u001b[0;34m\u001b[0m\u001b[0;34m\u001b[0m\u001b[0m\n",
            "\u001b[0;31mNameError\u001b[0m: name 'pertClassDicSM' is not defined"
          ]
        }
      ]
    },
    {
      "cell_type": "markdown",
      "metadata": {
        "id": "_M7PzmCZsa6r"
      },
      "source": [
        ""
      ]
    }
  ]
}